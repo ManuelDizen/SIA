{
  "nbformat": 4,
  "nbformat_minor": 0,
  "metadata": {
    "colab": {
      "name": "Ej 1 - Gradientes Conjugados.ipynb",
      "provenance": [],
      "collapsed_sections": [],
      "include_colab_link": true
    },
    "kernelspec": {
      "name": "python3",
      "display_name": "Python 3"
    },
    "language_info": {
      "name": "python"
    }
  },
  "cells": [
    {
      "cell_type": "markdown",
      "metadata": {
        "id": "view-in-github",
        "colab_type": "text"
      },
      "source": [
        "<a href=\"https://colab.research.google.com/github/ManuelDizen/SIA/blob/main/Ej_Obligatorio%201/Ej1-Gradientes_Conjugados.ipynb\" target=\"_parent\"><img src=\"https://colab.research.google.com/assets/colab-badge.svg\" alt=\"Open In Colab\"/></a>"
      ]
    },
    {
      "cell_type": "code",
      "execution_count": null,
      "metadata": {
        "id": "gca0ZVia-U_V",
        "colab": {
          "base_uri": "https://localhost:8080/",
          "height": 1000
        },
        "outputId": "7a8b3798-6499-440f-d534-65aaac8a5590"
      },
      "outputs": [
        {
          "output_type": "stream",
          "name": "stdout",
          "text": [
            "Requirement already satisfied: qiskit in /usr/local/lib/python3.7/dist-packages (0.36.1)\n",
            "Requirement already satisfied: qiskit-aer==0.10.4 in /usr/local/lib/python3.7/dist-packages (from qiskit) (0.10.4)\n",
            "Requirement already satisfied: qiskit-terra==0.20.1 in /usr/local/lib/python3.7/dist-packages (from qiskit) (0.20.1)\n",
            "Requirement already satisfied: qiskit-ignis==0.7.0 in /usr/local/lib/python3.7/dist-packages (from qiskit) (0.7.0)\n",
            "Requirement already satisfied: qiskit-ibmq-provider==0.19.1 in /usr/local/lib/python3.7/dist-packages (from qiskit) (0.19.1)\n",
            "Requirement already satisfied: numpy>=1.16.3 in /usr/local/lib/python3.7/dist-packages (from qiskit-aer==0.10.4->qiskit) (1.21.6)\n",
            "Requirement already satisfied: scipy>=1.0 in /usr/local/lib/python3.7/dist-packages (from qiskit-aer==0.10.4->qiskit) (1.7.3)\n",
            "Requirement already satisfied: websocket-client>=1.0.1 in /usr/local/lib/python3.7/dist-packages (from qiskit-ibmq-provider==0.19.1->qiskit) (1.3.2)\n",
            "Requirement already satisfied: websockets>=10.0 in /usr/local/lib/python3.7/dist-packages (from qiskit-ibmq-provider==0.19.1->qiskit) (10.3)\n",
            "Requirement already satisfied: requests>=2.19 in /usr/local/lib/python3.7/dist-packages (from qiskit-ibmq-provider==0.19.1->qiskit) (2.23.0)\n",
            "Requirement already satisfied: requests-ntlm>=1.1.0 in /usr/local/lib/python3.7/dist-packages (from qiskit-ibmq-provider==0.19.1->qiskit) (1.1.0)\n",
            "Requirement already satisfied: urllib3>=1.21.1 in /usr/local/lib/python3.7/dist-packages (from qiskit-ibmq-provider==0.19.1->qiskit) (1.24.3)\n",
            "Requirement already satisfied: python-dateutil>=2.8.0 in /usr/local/lib/python3.7/dist-packages (from qiskit-ibmq-provider==0.19.1->qiskit) (2.8.2)\n",
            "Requirement already satisfied: setuptools>=40.1.0 in /usr/local/lib/python3.7/dist-packages (from qiskit-ignis==0.7.0->qiskit) (57.4.0)\n",
            "Requirement already satisfied: retworkx>=0.8.0 in /usr/local/lib/python3.7/dist-packages (from qiskit-ignis==0.7.0->qiskit) (0.11.0)\n",
            "Requirement already satisfied: psutil>=5 in /usr/local/lib/python3.7/dist-packages (from qiskit-terra==0.20.1->qiskit) (5.4.8)\n",
            "Requirement already satisfied: symengine>=0.9 in /usr/local/lib/python3.7/dist-packages (from qiskit-terra==0.20.1->qiskit) (0.9.2)\n",
            "Requirement already satisfied: tweedledum<2.0,>=1.1 in /usr/local/lib/python3.7/dist-packages (from qiskit-terra==0.20.1->qiskit) (1.1.1)\n",
            "Requirement already satisfied: python-constraint>=1.4 in /usr/local/lib/python3.7/dist-packages (from qiskit-terra==0.20.1->qiskit) (1.4.0)\n",
            "Requirement already satisfied: stevedore>=3.0.0 in /usr/local/lib/python3.7/dist-packages (from qiskit-terra==0.20.1->qiskit) (3.5.0)\n",
            "Requirement already satisfied: sympy>=1.3 in /usr/local/lib/python3.7/dist-packages (from qiskit-terra==0.20.1->qiskit) (1.7.1)\n",
            "Requirement already satisfied: dill>=0.3 in /usr/local/lib/python3.7/dist-packages (from qiskit-terra==0.20.1->qiskit) (0.3.4)\n",
            "Requirement already satisfied: ply>=3.10 in /usr/local/lib/python3.7/dist-packages (from qiskit-terra==0.20.1->qiskit) (3.11)\n",
            "Requirement already satisfied: six>=1.5 in /usr/local/lib/python3.7/dist-packages (from python-dateutil>=2.8.0->qiskit-ibmq-provider==0.19.1->qiskit) (1.15.0)\n",
            "Requirement already satisfied: idna<3,>=2.5 in /usr/local/lib/python3.7/dist-packages (from requests>=2.19->qiskit-ibmq-provider==0.19.1->qiskit) (2.10)\n",
            "Requirement already satisfied: certifi>=2017.4.17 in /usr/local/lib/python3.7/dist-packages (from requests>=2.19->qiskit-ibmq-provider==0.19.1->qiskit) (2021.10.8)\n",
            "Requirement already satisfied: chardet<4,>=3.0.2 in /usr/local/lib/python3.7/dist-packages (from requests>=2.19->qiskit-ibmq-provider==0.19.1->qiskit) (3.0.4)\n",
            "Requirement already satisfied: ntlm-auth>=1.0.2 in /usr/local/lib/python3.7/dist-packages (from requests-ntlm>=1.1.0->qiskit-ibmq-provider==0.19.1->qiskit) (1.5.0)\n",
            "Requirement already satisfied: cryptography>=1.3 in /usr/local/lib/python3.7/dist-packages (from requests-ntlm>=1.1.0->qiskit-ibmq-provider==0.19.1->qiskit) (36.0.2)\n",
            "Requirement already satisfied: cffi>=1.12 in /usr/local/lib/python3.7/dist-packages (from cryptography>=1.3->requests-ntlm>=1.1.0->qiskit-ibmq-provider==0.19.1->qiskit) (1.15.0)\n",
            "Requirement already satisfied: pycparser in /usr/local/lib/python3.7/dist-packages (from cffi>=1.12->cryptography>=1.3->requests-ntlm>=1.1.0->qiskit-ibmq-provider==0.19.1->qiskit) (2.21)\n",
            "Requirement already satisfied: importlib-metadata>=1.7.0 in /usr/local/lib/python3.7/dist-packages (from stevedore>=3.0.0->qiskit-terra==0.20.1->qiskit) (4.11.3)\n",
            "Requirement already satisfied: pbr!=2.1.0,>=2.0.0 in /usr/local/lib/python3.7/dist-packages (from stevedore>=3.0.0->qiskit-terra==0.20.1->qiskit) (5.8.1)\n",
            "Requirement already satisfied: typing-extensions>=3.6.4 in /usr/local/lib/python3.7/dist-packages (from importlib-metadata>=1.7.0->stevedore>=3.0.0->qiskit-terra==0.20.1->qiskit) (4.2.0)\n",
            "Requirement already satisfied: zipp>=0.5 in /usr/local/lib/python3.7/dist-packages (from importlib-metadata>=1.7.0->stevedore>=3.0.0->qiskit-terra==0.20.1->qiskit) (3.8.0)\n",
            "Requirement already satisfied: mpmath>=0.19 in /usr/local/lib/python3.7/dist-packages (from sympy>=1.3->qiskit-terra==0.20.1->qiskit) (1.2.1)\n",
            "\n",
            "Gradientes conjugados:\n",
            "------------------------\n",
            "Tiempo de ejecución: 0.03926825523376465s\n",
            "\n",
            "Resultados:\n",
            "\n",
            "\t-- 0 --\n",
            "W = [6.14978292 7.12182304 7.12182304]\n",
            "w = [-2.7609107   0.53929392  2.34593696]\n",
            "\t [-2.7609107   0.53929392  2.34593696]\n",
            "w0 = [0.06283707 0.06283707]\n",
            "Error: 4.720788338621333e-06\n"
          ]
        },
        {
          "output_type": "display_data",
          "data": {
            "text/plain": [
              "<Figure size 432x288 with 1 Axes>"
            ],
            "image/png": "[encoded data removed]"
          },
          "metadata": {
            "needs_background": "light"
          }
        },
        {
          "output_type": "stream",
          "name": "stdout",
          "text": [
            "\t-- 0 --\n",
            "\n",
            "Gradientes descendientes:\n",
            "------------------------\n",
            "Tiempo de ejecución: 0.07281208038330078s\n",
            "\n",
            "Resultados:\n",
            "\n",
            "\t-- 0 --\n",
            "W = [-0.19007274  0.11172825  0.11172825]\n",
            "w = [-0.04172437 -0.00212258  0.03554512]\n",
            "\t [-0.04172437 -0.00212258  0.03554512]\n",
            "w0 = [-0.00234701 -0.00234701]\n",
            "Error: 0.6801816128501842\n"
          ]
        },
        {
          "output_type": "display_data",
          "data": {
            "text/plain": [
              "<Figure size 432x288 with 1 Axes>"
            ],
            "image/png": "[encoded data removed]"
          },
          "metadata": {
            "needs_background": "light"
          }
        },
        {
          "output_type": "stream",
          "name": "stdout",
          "text": [
            "\t-- 0 --\n",
            "\n",
            "ADAM:\n",
            "------------------------\n",
            "Tiempo de ejecución: 4.852167129516602s\n",
            "\n",
            "Resultados:\n",
            "\n",
            "\t-- 0 --\n",
            "W = [8.09964426 8.48563852 8.48563852]\n",
            "w = [-2.28487535 -0.6168037   2.19640554]\n",
            "\t [-2.28487535 -0.6168037   2.19640554]\n",
            "w0 = [0.75230605 0.75230605]\n",
            "Error: 1.3151039987953922e-07\n"
          ]
        },
        {
          "output_type": "display_data",
          "data": {
            "text/plain": [
              "<Figure size 432x288 with 1 Axes>"
            ],
            "image/png": "[encoded data removed]"
          },
          "metadata": {
            "needs_background": "light"
          }
        },
        {
          "output_type": "stream",
          "name": "stdout",
          "text": [
            "\t-- 0 --\n"
          ]
        }
      ],
      "source": [
        "!pip install qiskit\n",
        "from qiskit import algorithms\n",
        "import numpy as np\n",
        "import matplotlib.pyplot as plt\n",
        "import math\n",
        "import time\n",
        "import random\n",
        "\n",
        "training_set = [[4.4793, -4.0765, -4.0765], [-4.1793, -4.9218, 1.7664], [-3.9429, -0.7689, 4.8830]]\n",
        "output = [0, 1, 1]\n",
        "\n",
        "partial_errors = []\n",
        "\n",
        "\n",
        "def g(x):\n",
        "  return math.exp(x) / (1 + math.exp(x))\n",
        "\n",
        "def F(W, w, w0, mu):\n",
        "  outerSum = 0\n",
        "  innerSum = 0\n",
        "  # Chequear los índices de los arreglos\n",
        "  for j in range(0,2):\n",
        "    for k in range(0,3):\n",
        "      innerSum += w[j][k]*mu[k]\n",
        "    outerSum += W[j+1]*g(innerSum - w0[j])\n",
        "    innerSum = 0\n",
        "  return g(outerSum - W[0])\n",
        "\n",
        "def error(W, w, w0):\n",
        "  sum = 0\n",
        "  for i in range(0,3):\n",
        "    sum += ((output[i] - F(W, w, w0, training_set[i])) ** 2)\n",
        "  partial_errors.append(sum)\n",
        "  return sum\n",
        "\n",
        "def aux (arr):\n",
        "  W = [arr[i] for i in range(0,3)]\n",
        "  w = [[], []]\n",
        "  w[0] = [arr[i] for i in range(3,6)]\n",
        "  w[1] = [arr[i] for i in range(6,9)]\n",
        "  w0 = [arr[i] for i in range(9,11)]\n",
        "  return error(W, w, w0)\n",
        "\n",
        "def restart():\n",
        "  return np.zeros(11)\n",
        "\n",
        "\n",
        "def print_result(w):\n",
        "    auxi = w[0]\n",
        "    print(\"\\t-- 0 --\")\n",
        "    print(\"W = \" + str(auxi[0:3]))\n",
        "    print(\"w = \" + str(auxi[3:6]) + \"\\n\\t \" + str(auxi[6:9]))\n",
        "    print(\"w0 = \" + str(auxi[9:11]))\n",
        "    print(\"Error: \" + str(w[1]))\n",
        "    plt.plot(partial_errors)\n",
        "    plt.show()\n",
        "    print(\"\\t-- 0 --\")\n",
        "\n",
        "\n",
        "print(\"\\nGradientes conjugados:\\n------------------------\")\n",
        "partial_errors = []\n",
        "x0 = restart()\n",
        "t0 = time.time()\n",
        "out = algorithms.optimizers.CG().optimize(11, aux, initial_point=x0)\n",
        "tf = time.time()\n",
        "print(f'Tiempo de ejecución: {(tf-t0)}s')\n",
        "print('\\nResultados:\\n')\n",
        "print_result(out)\n",
        "\n",
        "print(\"\\nGradientes descendientes:\\n------------------------\")\n",
        "partial_errors = []\n",
        "x0 = restart()\n",
        "t0 = time.time()\n",
        "out = algorithms.optimizers.GradientDescent().optimize(11, aux, initial_point=x0)\n",
        "tf = time.time()\n",
        "print(f'Tiempo de ejecución: {(tf-t0)}s')\n",
        "print('\\nResultados:\\n')\n",
        "print_result(out)\n",
        "\n",
        "\n",
        "print(\"\\nADAM:\\n------------------------\")\n",
        "partial_errors = []\n",
        "x0 = restart()\n",
        "t0 = time.time()\n",
        "out = algorithms.optimizers.ADAM().optimize(11, aux, initial_point=x0)\n",
        "tf = time.time()\n",
        "print(f'Tiempo de ejecución: {(tf-t0)}s')\n",
        "print('\\nResultados:\\n')\n",
        "print_result(out)\n"
      ]
    }
  ]
}