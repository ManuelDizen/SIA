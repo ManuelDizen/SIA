{
  "nbformat": 4,
  "nbformat_minor": 0,
  "metadata": {
    "colab": {
      "name": "Ej 2 - Componentes Principales.ipynb",
      "provenance": [],
      "collapsed_sections": [],
      "include_colab_link": true
    },
    "kernelspec": {
      "name": "python3",
      "display_name": "Python 3"
    },
    "language_info": {
      "name": "python"
    }
  },
  "cells": [
    {
      "cell_type": "markdown",
      "metadata": {
        "id": "view-in-github",
        "colab_type": "text"
      },
      "source": [
        "<a href=\"https://colab.research.google.com/github/ManuelDizen/SIA/blob/main/Ej_Obligatorio%202/Ej_2_Componentes_Principales.ipynb\" target=\"_parent\"><img src=\"https://colab.research.google.com/assets/colab-badge.svg\" alt=\"Open In Colab\"/></a>"
      ]
    },
    {
      "cell_type": "markdown",
      "source": [
        "# Ejercicio 2 - Componentes Principales\n",
        "### Consigna: \"Utilizar una librería para calcular las componentes principales (del archivo _europe.csv_). Interpretar la primera componente.\""
      ],
      "metadata": {
        "id": "1ZLMpUZqLQ_n"
      }
    },
    {
      "cell_type": "markdown",
      "source": [
        "### Librerias y fuentes de información utilizadas"
      ],
      "metadata": {
        "id": "MgibM5OIvl6S"
      }
    },
    {
      "cell_type": "code",
      "source": [
        "# Imports\n",
        "import pandas as pd\n",
        "from sklearn.decomposition import PCA\n",
        "from sklearn.preprocessing import StandardScaler\n",
        "import plotly.express as px\n",
        "import numpy as np\n",
        "import matplotlib.pyplot as plt\n",
        "\n",
        "# Fuentes de información para procesamiento de componentes principales:\n",
        "# https://towardsdatascience.com/pca-using-python-scikit-learn-e653f8989e60\n",
        "# https://www.kindsonthegenius.com/principal-components-analysispca-in-python-step-by-step/\n"
      ],
      "metadata": {
        "id": "MZ9S8XePEQgo"
      },
      "execution_count": 8,
      "outputs": []
    },
    {
      "cell_type": "markdown",
      "source": [
        "### Procesamiento de información"
      ],
      "metadata": {
        "id": "Ec1ukwiavrDg"
      }
    },
    {
      "cell_type": "code",
      "execution_count": 9,
      "metadata": {
        "colab": {
          "base_uri": "https://localhost:8080/"
        },
        "id": "kyi5JZnDfeZU",
        "outputId": "bd35022e-0b16-4bad-9a01-919ddee9c2a1"
      },
      "outputs": [
        {
          "output_type": "stream",
          "name": "stdout",
          "text": [
            "           0         1         2         3         4         Country\n",
            "0  -1.081748 -1.270051 -0.514803 -0.413907  0.001251         Austria\n",
            "1  -0.681094 -0.416041 -0.687292 -0.283364  0.273518         Belgium\n",
            "2   2.609879  0.269638 -0.623031 -1.331941  0.001946        Bulgaria\n",
            "3   1.270149  1.901427 -0.831925  0.371907 -0.377894         Croatia\n",
            "4  -0.167209 -0.131943 -1.001979 -0.263449 -1.047409  Czech Republic\n",
            "5  -0.955191 -0.409628 -0.732314 -0.391339  0.027888         Denmark\n",
            "6   2.487735 -0.085779 -0.987538 -0.303984  0.555597         Estonia\n",
            "7  -0.210563 -0.033717  1.174438 -0.614491 -0.145780         Finland\n",
            "8  -0.592394 -0.471832  0.992255 -0.843702 -0.981331         Germany\n",
            "9   1.000472  3.406849  0.738084 -0.793175  1.068531          Greece\n",
            "10  1.396898 -0.034231 -0.695239 -0.097312  0.050388         Hungary\n",
            "11 -1.583720 -1.477264 -0.306748  1.251670  0.167241         Iceland\n",
            "12 -1.808918  0.521808 -0.301615  1.829776  0.372668         Ireland\n",
            "13 -0.853224  0.327799  1.114486 -0.137694 -0.377246           Italy\n",
            "14  2.306059 -0.675348 -1.301515  0.373985 -0.247019          Latvia\n",
            "15  1.530100 -0.194997 -1.076834  1.142023 -0.283135       Lithuania\n",
            "16 -3.478435 -1.076287 -0.361319  0.361099  2.021508      Luxembourg\n",
            "17 -1.840053 -0.057229 -0.453754 -0.770093  0.132617     Netherlands\n",
            "18 -2.106511 -0.143963  1.035463 -1.362686 -0.547047          Norway\n",
            "19  1.471774  0.072985  0.741919  0.207883 -0.116252          Poland\n",
            "20  0.526493  1.034774 -0.127654  0.056053  0.451807        Portugal\n",
            "21  0.782966 -0.172260 -0.951409  0.930525  0.095982        Slovakia\n",
            "22  0.067543  0.797672 -1.171579 -0.237358 -0.715185        Slovenia\n",
            "23 -0.163767  1.152066  2.129796  2.613753 -0.725067           Spain\n",
            "24 -0.885105 -0.402881  1.796021 -0.241101 -0.612589          Sweden\n",
            "25 -3.281586 -0.108227 -0.753067 -0.476104 -0.813816     Switzerland\n",
            "26  4.580268 -2.829042  1.893035 -0.011625  0.467664         Ukraine\n",
            "27 -0.340819  0.505702  1.264115 -0.565349  1.301161  United Kingdom\n",
            "\n",
            "Varianza: [0.46102367 0.16958906 0.15188436 0.11005085 0.06540695]\n",
            "\n",
            "Varianza acumulada: [0.46102367 0.63061273 0.78249709 0.89254794 0.95795489]\n",
            "\n",
            "Autovectores: \n",
            "CP1: [ 0.1248739  -0.50050586  0.40651815 -0.48287333  0.18811162 -0.47570355\n",
            "  0.27165582] \n",
            "CP2: [-0.1728722  -0.13013955 -0.36965724  0.2652478   0.65826689  0.08262198\n",
            "  0.55320371]\n",
            "\n",
            "\n",
            "Variable  |  Coeficiente en CP1  | Coeficiente en CP2  \n",
            "---------------------------------------\n",
            "Area | 0.12487390183337622 | -0.1728722015740554\n",
            "GDP | -0.5005058583604992 | -0.13013955326325893\n",
            "Inflation | 0.4065181548118897 | -0.3696572425017243\n",
            "Life.expect | -0.4828733253002009 | 0.2652477970155552\n",
            "Military | 0.18811161613179747 | 0.658266888341771\n",
            "Pop.growth | -0.475703553912758 | 0.08262198310903919\n",
            "Unemployment | 0.27165582007504635 | 0.5532037052151455\n",
            "\n",
            "Valores de componente principal para cada país:\n",
            "   (Austria,)  (Belgium,)  (Bulgaria,)  (Croatia,)  (Czech Republic,)  \\\n",
            "0   -1.081748   -0.681094     2.609879    1.270149          -0.167209   \n",
            "\n",
            "   (Denmark,)  (Estonia,)  (Finland,)  (Germany,)  (Greece,)  ...  (Norway,)  \\\n",
            "0   -0.955191    2.487735   -0.210563   -0.592394   1.000472  ...  -2.106511   \n",
            "\n",
            "   (Poland,)  (Portugal,)  (Slovakia,)  (Slovenia,)  (Spain,)  (Sweden,)  \\\n",
            "0   1.471774     0.526493     0.782966     0.067543 -0.163767  -0.885105   \n",
            "\n",
            "   (Switzerland,)  (Ukraine,)  (United Kingdom,)  \n",
            "0       -3.281586    4.580268          -0.340819  \n",
            "\n",
            "[1 rows x 28 columns]\n"
          ]
        }
      ],
      "source": [
        "url = 'https://raw.githubusercontent.com/ManuelDizen/SIA/main/TP4%20-%20M%C3%A9todos%20de%20Aprendizaje%20NO%20supervisado/europe.csv'\n",
        "df = pd.read_csv(url)\n",
        "\n",
        "features = ['Area', 'GDP', 'Inflation', 'Life.expect', 'Military', 'Pop.growth', 'Unemployment']\n",
        "\n",
        "x = df.loc[:, features].values\n",
        "y = df.loc[:,['Country']].values\n",
        "x = StandardScaler().fit_transform(x)\n",
        "\n",
        "pca = PCA(n_components=0.95, svd_solver='full')\n",
        "principalComponents = pca.fit_transform(x)\n",
        "principalDf = pd.DataFrame(data = principalComponents)\n",
        "finalDf = pd.concat([principalDf, df[['Country']]], axis = 1)\n",
        "mainComponent = pd.DataFrame(data=principalComponents[:, 0], index=y).T\n",
        "\n",
        "#print(principalComponents)\n",
        "print(finalDf)\n",
        "print(f'\\nVarianza: {pca.explained_variance_ratio_}' + \"\\n\")\n",
        "print(f'Varianza acumulada: {pca.explained_variance_ratio_.cumsum()}\\n')\n",
        "print(f'Autovectores: \\nCP1: {pca.components_[0]} \\nCP2: {pca.components_[1]}\\n')\n",
        "print(f'\\nVariable  |  Coeficiente en CP1  | Coeficiente en CP2  \\n---------------------------------------')\n",
        "for i in range(0, len(pca.components_[0])):\n",
        "  print(f'{features[i]} | {pca.components_[0][i]} | {pca.components_[1][i]}')\n",
        "print(f'\\nValores de componente principal para cada país:\\n{mainComponent}')\n"
      ]
    },
    {
      "cell_type": "markdown",
      "source": [
        "# **Visualización de la información procesada**\n",
        "## Varianza acumulada"
      ],
      "metadata": {
        "id": "vmpf0-U1DVQr"
      }
    },
    {
      "cell_type": "code",
      "source": [
        "indexes = np.arange(pca.n_components_)\n",
        "indexes = np.append(indexes, 5)\n",
        "indexes = indexes[1:]\n",
        "values = pca.explained_variance_ratio_\n",
        "print(indexes)\n",
        "print(pca.explained_variance_ratio_)\n",
        "\n",
        "fig = plt.figure(figsize = (12,8))\n",
        "plt.bar(indexes, values, color ='green',\n",
        "        width = 0.5)\n",
        "aux = plt.gca()\n",
        "aux.set_ylim(0,0.6)\n",
        "plt.xlabel(\"N° de componente principal\")\n",
        "plt.ylabel(\"Porcentaje de varianza (%)\")\n",
        "plt.title(\"Varianza de cada componente principal\")\n",
        "plt.show()"
      ],
      "metadata": {
        "colab": {
          "base_uri": "https://localhost:8080/",
          "height": 550
        },
        "id": "8mnuUhIRDpRH",
        "outputId": "8ffccd0f-3175-4308-98cf-d77cb0a6bfd2"
      },
      "execution_count": 10,
      "outputs": [
        {
          "output_type": "stream",
          "name": "stdout",
          "text": [
            "[1 2 3 4 5]\n",
            "[0.46102367 0.16958906 0.15188436 0.11005085 0.06540695]\n"
          ]
        },
        {
          "output_type": "display_data",
          "data": {
            "text/plain": [
              "<Figure size 864x576 with 1 Axes>"
            ],
            "image/png": "[encoded data removed]"
          },
          "metadata": {
            "needs_background": "light"
          }
        }
      ]
    },
    {
      "cell_type": "code",
      "source": [
        "indexes = np.arange(pca.n_components_)\n",
        "indexes = np.append(indexes, 5)\n",
        "indexes = indexes[1:]\n",
        "values = pca.explained_variance_ratio_.cumsum()\n",
        "print(indexes)\n",
        "print(pca.explained_variance_ratio_.cumsum())\n",
        "\n",
        "fig = plt.figure(figsize = (12,8))\n",
        "plt.bar(indexes, values, color ='blue',\n",
        "        width = 0.5)\n",
        "aux = plt.gca()\n",
        "aux.set_ylim(0,1.1)\n",
        "plt.xlabel(\"N° de componente principal\")\n",
        "plt.ylabel(\"Porcentaje de varianza (%)\")\n",
        "plt.title(\"Varianza acumulada de cada componente principal\")\n",
        "plt.show()"
      ],
      "metadata": {
        "colab": {
          "base_uri": "https://localhost:8080/",
          "height": 550
        },
        "id": "q9IaetC6HHgs",
        "outputId": "6b99b747-95d5-4a40-bc0d-733a49667e96"
      },
      "execution_count": 11,
      "outputs": [
        {
          "output_type": "stream",
          "name": "stdout",
          "text": [
            "[1 2 3 4 5]\n",
            "[0.46102367 0.63061273 0.78249709 0.89254794 0.95795489]\n"
          ]
        },
        {
          "output_type": "display_data",
          "data": {
            "text/plain": [
              "<Figure size 864x576 with 1 Axes>"
            ],
            "image/png": "[encoded data removed]"
          },
          "metadata": {
            "needs_background": "light"
          }
        }
      ]
    },
    {
      "cell_type": "markdown",
      "source": [
        "### Valores de la componente principal para cada país"
      ],
      "metadata": {
        "id": "zAqWlb1RHBP_"
      }
    },
    {
      "cell_type": "code",
      "source": [
        "labels = y[:,0]\n",
        "values = mainComponent.values[0]\n",
        "print('Country  |  Value of main component')\n",
        "for i in range(0, len(labels)):\n",
        "  print(f'{labels[i]} | {values[i]}')\n",
        "fig = plt.figure(figsize=(8,20))\n",
        "plt.barh(labels, values, color = 'blue', height=1)\n",
        "aux = plt.gca()\n",
        "#aux.set_ylim(-4,5)\n",
        "plt.ylabel(\"Países\")\n",
        "plt.xlabel(\"Valor de componente principal\")\n",
        "plt.title(\"Valor de componente principal para cada país\")\n",
        "plt.show()\n"
      ],
      "metadata": {
        "colab": {
          "base_uri": "https://localhost:8080/",
          "height": 1000
        },
        "id": "UDxAt1uAHYWX",
        "outputId": "d2d30df5-7da8-45c1-baa1-651d9d67cba9"
      },
      "execution_count": 12,
      "outputs": [
        {
          "output_type": "stream",
          "name": "stdout",
          "text": [
            "Country  |  Value of main component\n",
            "Austria | -1.0817476612095909\n",
            "Belgium | -0.6810940686338438\n",
            "Bulgaria | 2.6098788164204785\n",
            "Croatia | 1.2701488485858339\n",
            "Czech Republic | -0.16720949379051178\n",
            "Denmark | -0.9551907971097198\n",
            "Estonia | 2.487735218104109\n",
            "Finland | -0.21056315636344047\n",
            "Germany | -0.5923936529244829\n",
            "Greece | 1.0004719569396414\n",
            "Hungary | 1.3968983127833714\n",
            "Iceland | -1.5837197024631129\n",
            "Ireland | -1.8089176109392011\n",
            "Italy | -0.8532239623948381\n",
            "Latvia | 2.3060594085931676\n",
            "Lithuania | 1.5300999099527088\n",
            "Luxembourg | -3.4784349567046386\n",
            "Netherlands | -1.8400534050753623\n",
            "Norway | -2.1065108336056695\n",
            "Poland | 1.4717738276291152\n",
            "Portugal | 0.5264933349515382\n",
            "Slovakia | 0.7829659710814719\n",
            "Slovenia | 0.06754337538258308\n",
            "Spain | -0.16376695684389914\n",
            "Sweden | -0.8851053096517604\n",
            "Switzerland | -3.281586128815993\n",
            "Ukraine | 4.580268066769381\n",
            "United Kingdom | -0.34081935066733765\n"
          ]
        },
        {
          "output_type": "display_data",
          "data": {
            "text/plain": [
              "<Figure size 576x1440 with 1 Axes>"
            ],
            "image/png": "[encoded data removed]"
          },
          "metadata": {
            "needs_background": "light"
          }
        }
      ]
    },
    {
      "cell_type": "markdown",
      "source": [
        "### Integrantes:\n",
        "\n",
        "- [De Simone, Franco](https://github.com/desimonef) -  61100\n",
        "\n",
        "- [Dizenhaus, Manuel](https://github.com/ManuelDizen) -  61101\n",
        "\n",
        "- [Cornidez, Milagros](https://github.com/mcornidez) -  61432"
      ],
      "metadata": {
        "id": "sjrgZu_GLxkZ"
      }
    }
  ]
}