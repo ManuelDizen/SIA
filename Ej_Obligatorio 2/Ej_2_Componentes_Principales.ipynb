{
  "nbformat": 4,
  "nbformat_minor": 0,
  "metadata": {
    "colab": {
      "name": "Ej 2 - Componentes Principales.ipynb",
      "provenance": [],
      "authorship_tag": "ABX9TyMOyEz4BlEyhhp7CCureKpo",
      "include_colab_link": true
    },
    "kernelspec": {
      "name": "python3",
      "display_name": "Python 3"
    },
    "language_info": {
      "name": "python"
    }
  },
  "cells": [
    {
      "cell_type": "markdown",
      "metadata": {
        "id": "view-in-github",
        "colab_type": "text"
      },
      "source": [
        "<a href=\"https://colab.research.google.com/github/ManuelDizen/SIA/blob/main/Ej_Obligatorio%202/Ej_2_Componentes_Principales.ipynb\" target=\"_parent\"><img src=\"https://colab.research.google.com/assets/colab-badge.svg\" alt=\"Open In Colab\"/></a>"
      ]
    },
    {
      "cell_type": "code",
      "execution_count": null,
      "metadata": {
        "colab": {
          "base_uri": "https://localhost:8080/"
        },
        "id": "kyi5JZnDfeZU",
        "outputId": "86b56d7a-0fbd-4aea-ebaf-0d5214f61b44"
      },
      "outputs": [
        {
          "output_type": "stream",
          "name": "stdout",
          "text": [
            "           0         1         2         3         4         Country\n",
            "0  -1.081748 -1.270051 -0.514803 -0.413907  0.001251         Austria\n",
            "1  -0.681094 -0.416041 -0.687292 -0.283364  0.273518         Belgium\n",
            "2   2.609879  0.269638 -0.623031 -1.331941  0.001946        Bulgaria\n",
            "3   1.270149  1.901427 -0.831925  0.371907 -0.377894         Croatia\n",
            "4  -0.167209 -0.131943 -1.001979 -0.263449 -1.047409  Czech Republic\n",
            "5  -0.955191 -0.409628 -0.732314 -0.391339  0.027888         Denmark\n",
            "6   2.487735 -0.085779 -0.987538 -0.303984  0.555597         Estonia\n",
            "7  -0.210563 -0.033717  1.174438 -0.614491 -0.145780         Finland\n",
            "8  -0.592394 -0.471832  0.992255 -0.843702 -0.981331         Germany\n",
            "9   1.000472  3.406849  0.738084 -0.793175  1.068531          Greece\n",
            "10  1.396898 -0.034231 -0.695239 -0.097312  0.050388         Hungary\n",
            "11 -1.583720 -1.477264 -0.306748  1.251670  0.167241         Iceland\n",
            "12 -1.808918  0.521808 -0.301615  1.829776  0.372668         Ireland\n",
            "13 -0.853224  0.327799  1.114486 -0.137694 -0.377246           Italy\n",
            "14  2.306059 -0.675348 -1.301515  0.373985 -0.247019          Latvia\n",
            "15  1.530100 -0.194997 -1.076834  1.142023 -0.283135       Lithuania\n",
            "16 -3.478435 -1.076287 -0.361319  0.361099  2.021508      Luxembourg\n",
            "17 -1.840053 -0.057229 -0.453754 -0.770093  0.132617     Netherlands\n",
            "18 -2.106511 -0.143963  1.035463 -1.362686 -0.547047          Norway\n",
            "19  1.471774  0.072985  0.741919  0.207883 -0.116252          Poland\n",
            "20  0.526493  1.034774 -0.127654  0.056053  0.451807        Portugal\n",
            "21  0.782966 -0.172260 -0.951409  0.930525  0.095982        Slovakia\n",
            "22  0.067543  0.797672 -1.171579 -0.237358 -0.715185        Slovenia\n",
            "23 -0.163767  1.152066  2.129796  2.613753 -0.725067           Spain\n",
            "24 -0.885105 -0.402881  1.796021 -0.241101 -0.612589          Sweden\n",
            "25 -3.281586 -0.108227 -0.753067 -0.476104 -0.813816     Switzerland\n",
            "26  4.580268 -2.829042  1.893035 -0.011625  0.467664         Ukraine\n",
            "27 -0.340819  0.505702  1.264115 -0.565349  1.301161  United Kingdom\n",
            "\n",
            "Varianza: [0.46102367 0.16958906 0.15188436 0.11005085 0.06540695]\n",
            "\n",
            "Varianza acumulada: [0.46102367 0.63061273 0.78249709 0.89254794 0.95795489]\n",
            "Autovectores: \n",
            " [[ 1.24873902e-01 -5.00505858e-01  4.06518155e-01 -4.82873325e-01\n",
            "   1.88111616e-01 -4.75703554e-01  2.71655820e-01]\n",
            " [-1.72872202e-01 -1.30139553e-01 -3.69657243e-01  2.65247797e-01\n",
            "   6.58266888e-01  8.26219831e-02  5.53203705e-01]\n",
            " [ 8.98296740e-01  8.39557607e-02  1.98194675e-01  2.46082460e-01\n",
            "   2.43679433e-01  1.63697207e-01  5.00135736e-04]\n",
            " [ 4.48503976e-02 -8.42554739e-02  1.64685649e-01  2.67714373e-02\n",
            "  -5.62374796e-01  3.92462767e-01  7.01967912e-01]\n",
            " [-3.24016926e-01  3.90632444e-01  6.89500539e-01 -1.01786561e-01\n",
            "   3.68147581e-01  3.47867772e-01  1.01587422e-02]]\n"
          ]
        }
      ],
      "source": [
        "#Fuente para elaboración con PCA: \n",
        "# https://towardsdatascience.com/pca-using-python-scikit-learn-e653f8989e60\n",
        "# https://www.kindsonthegenius.com/principal-components-analysispca-in-python-step-by-step/\n",
        "\n",
        "import pandas as pd\n",
        "from sklearn.decomposition import PCA\n",
        "from sklearn.preprocessing import StandardScaler\n",
        "import plotly.express as px\n",
        "\n",
        "url = 'https://raw.githubusercontent.com/ManuelDizen/SIA/main/TP4%20-%20M%C3%A9todos%20de%20Aprendizaje%20NO%20supervisado/europe.csv'\n",
        "df = pd.read_csv(url)\n",
        "\n",
        "features = ['Area', 'GDP', 'Inflation', 'Life.expect', 'Military', 'Pop.growth', 'Unemployment']\n",
        "\n",
        "x = df.loc[:, features].values\n",
        "y = df.loc[:,['Country']].values\n",
        "x = StandardScaler().fit_transform(x)\n",
        "\n",
        "pca = PCA(n_components=0.95, svd_solver='full')\n",
        "\n",
        "#Acá me faltaría ver como conseguir los vectores con el peso de cada columna\n",
        "#Actualización: Creo qeu es con pca.components_\n",
        "\n",
        "principalComponents = pca.fit_transform(x)\n",
        "principalDf = pd.DataFrame(data = principalComponents)\n",
        "finalDf = pd.concat([principalDf, df[['Country']]], axis = 1)\n",
        "mainComponent = pd.DataFrame(data=principalComponents[:, 0], index=y).T\n",
        "\n",
        "#print(principalComponents)\n",
        "print(finalDf)\n",
        "print(f'\\nVarianza: {pca.explained_variance_ratio_}' + \"\\n\")\n",
        "print(f'Varianza acumulada: {pca.explained_variance_ratio_.cumsum()}')\n",
        "print(f'Autovectores: \\n {pca.components_}')\n"
      ]
    }
  ]
}